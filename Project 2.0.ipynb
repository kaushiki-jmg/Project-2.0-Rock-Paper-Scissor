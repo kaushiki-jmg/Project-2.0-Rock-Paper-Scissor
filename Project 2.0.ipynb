{
 "cells": [
  {
   "cell_type": "code",
   "execution_count": 2,
   "id": "e44f30c7",
   "metadata": {},
   "outputs": [
    {
     "name": "stdout",
     "output_type": "stream",
     "text": [
      "Enter the name of player 1: Kaushiki\n",
      "Enter the name of player 2: Shalini\n",
      "****************************************\n",
      "\n",
      "Enter r for rock\n",
      "Enter p for paper\n",
      "Enter s for scissor\n",
      "****************************************\n",
      "\n",
      "Kaushiki enter your choice: r\n",
      "Shalini enter your choice: p\n",
      "****************************************\n",
      "\n"
     ]
    }
   ],
   "source": [
    "p1=input(\"Enter the name of player 1: \")\n",
    "p2=input(\"Enter the name of player 2: \")\n",
    "print(\"*\"*40+\"\\n\")\n",
    "print(\"Enter r for rock\")\n",
    "print(\"Enter p for paper\")\n",
    "print(\"Enter s for scissor\")\n",
    "print(\"*\"*40+\"\\n\")\n",
    "c1=input(p1+\" enter your choice: \")\n",
    "c2=input(p2+\" enter your choice: \")\n",
    "print(\"*\"*40+\"\\n\")"
   ]
  },
  {
   "cell_type": "code",
   "execution_count": 3,
   "id": "82c77b8c",
   "metadata": {},
   "outputs": [
    {
     "name": "stdout",
     "output_type": "stream",
     "text": [
      "Shalini won!!!\n"
     ]
    }
   ],
   "source": [
    "if(c1==\"r\"):\n",
    "    if(c2==\"r\"):\n",
    "        print(\"#### Tie between \"+p1+\" and \"+p2+\" ####\")\n",
    "    elif(c2==\"p\"):\n",
    "        print(p2+\" won!!!\")\n",
    "    else:\n",
    "        print(p1+\" won!!!\")\n",
    "elif(c1==\"p\"):\n",
    "    if(c2==\"p\"):\n",
    "        print(\"#### Tie between \"+p1+\" and \"+p2+\" ####\")\n",
    "    elif(c2==\"s\"):\n",
    "        print(p2+\" won!!!\")\n",
    "    else:\n",
    "        print(p1+\" won!!!\")\n",
    "else:\n",
    "    if(c2==\"s\"):\n",
    "        print(\"#### Tie between \"+p1+\" and \"+p2+\" ####\")\n",
    "    elif(c2==\"r\"):\n",
    "        print(p2+\" won!!!\")\n",
    "    else:\n",
    "        print(p1+\" won!!!\")"
   ]
  }
 ],
 "metadata": {
  "kernelspec": {
   "display_name": "Python 3 (ipykernel)",
   "language": "python",
   "name": "python3"
  },
  "language_info": {
   "codemirror_mode": {
    "name": "ipython",
    "version": 3
   },
   "file_extension": ".py",
   "mimetype": "text/x-python",
   "name": "python",
   "nbconvert_exporter": "python",
   "pygments_lexer": "ipython3",
   "version": "3.9.12"
  }
 },
 "nbformat": 4,
 "nbformat_minor": 5
}
